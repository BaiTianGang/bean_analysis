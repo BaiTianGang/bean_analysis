{
 "cells": [
  {
   "cell_type": "code",
   "execution_count": 1,
   "id": "01743347-38d1-4e6f-8753-e591c6b4a72f",
   "metadata": {},
   "outputs": [],
   "source": [
    "import numpy as np\n",
    "import pandas as pd "
   ]
  },
  {
   "cell_type": "code",
   "execution_count": 2,
   "id": "522a2539-3c50-4bd2-b920-4c3c9e39d89a",
   "metadata": {},
   "outputs": [],
   "source": [
    "data = pd.read_excel('./data/0827/data_gt_60.xlsx')\n",
    "del data['TyG指数']"
   ]
  },
  {
   "cell_type": "code",
   "execution_count": 3,
   "id": "b51dbdaa-70d7-46b5-ab01-4e529f1a5e6b",
   "metadata": {},
   "outputs": [],
   "source": [
    "data['TyG指数'] = data.apply(lambda x: np.log(\n",
    "    (x['TG检测值']/0.011 * x['空腹血糖检测值']/0.056)/2),axis=1)\n",
    "# TG 1 mg/dL = 0.011 mmol/L， FBG 1 mg/dL = 0.056 mmol/L"
   ]
  },
  {
   "cell_type": "code",
   "execution_count": 21,
   "id": "5dbc0e80-9bcc-4e32-a0ff-5da802030999",
   "metadata": {},
   "outputs": [
    {
     "data": {
      "text/plain": [
       "9.18402306365881"
      ]
     },
     "execution_count": 21,
     "metadata": {},
     "output_type": "execute_result"
    }
   ],
   "source": [
    "np.log(1.5 / 0.011 * 8 /0.056/2)"
   ]
  },
  {
   "cell_type": "code",
   "execution_count": null,
   "id": "1bffb3b0-8fb4-4184-ae27-85c38c12a911",
   "metadata": {},
   "outputs": [],
   "source": [
    "# 再看下公式吧  我粗算了一个 TG1.5，FBG8的人  TyG 9.16\n",
    "# FBG mg/dl÷18=mmol/L；mmol/L×18=mg/dl。\n",
    "# TG为1 mg/dl=0.011 3 mmol/L"
   ]
  },
  {
   "cell_type": "code",
   "execution_count": 4,
   "id": "5a2861f0-c643-40f9-a2fb-29dd9e80cb21",
   "metadata": {},
   "outputs": [
    {
     "data": {
      "text/html": [
       "<div>\n",
       "<style scoped>\n",
       "    .dataframe tbody tr th:only-of-type {\n",
       "        vertical-align: middle;\n",
       "    }\n",
       "\n",
       "    .dataframe tbody tr th {\n",
       "        vertical-align: top;\n",
       "    }\n",
       "\n",
       "    .dataframe thead th {\n",
       "        text-align: right;\n",
       "    }\n",
       "</style>\n",
       "<table border=\"1\" class=\"dataframe\">\n",
       "  <thead>\n",
       "    <tr style=\"text-align: right;\">\n",
       "      <th></th>\n",
       "      <th>TyG指数</th>\n",
       "    </tr>\n",
       "  </thead>\n",
       "  <tbody>\n",
       "    <tr>\n",
       "      <th>count</th>\n",
       "      <td>460.000000</td>\n",
       "    </tr>\n",
       "    <tr>\n",
       "      <th>mean</th>\n",
       "      <td>8.524209</td>\n",
       "    </tr>\n",
       "    <tr>\n",
       "      <th>std</th>\n",
       "      <td>1.113243</td>\n",
       "    </tr>\n",
       "    <tr>\n",
       "      <th>min</th>\n",
       "      <td>5.514246</td>\n",
       "    </tr>\n",
       "    <tr>\n",
       "      <th>25%</th>\n",
       "      <td>7.864731</td>\n",
       "    </tr>\n",
       "    <tr>\n",
       "      <th>50%</th>\n",
       "      <td>8.682965</td>\n",
       "    </tr>\n",
       "    <tr>\n",
       "      <th>75%</th>\n",
       "      <td>9.285504</td>\n",
       "    </tr>\n",
       "    <tr>\n",
       "      <th>max</th>\n",
       "      <td>11.656404</td>\n",
       "    </tr>\n",
       "  </tbody>\n",
       "</table>\n",
       "</div>"
      ],
      "text/plain": [
       "            TyG指数\n",
       "count  460.000000\n",
       "mean     8.524209\n",
       "std      1.113243\n",
       "min      5.514246\n",
       "25%      7.864731\n",
       "50%      8.682965\n",
       "75%      9.285504\n",
       "max     11.656404"
      ]
     },
     "execution_count": 4,
     "metadata": {},
     "output_type": "execute_result"
    }
   ],
   "source": [
    "data[['TyG指数']].describe()"
   ]
  },
  {
   "cell_type": "code",
   "execution_count": 6,
   "id": "292354e9-c4f3-40c5-a0f4-a6c91dbc9e00",
   "metadata": {},
   "outputs": [],
   "source": [
    "data['mace'] = data['mace'].astype(int)"
   ]
  },
  {
   "cell_type": "code",
   "execution_count": 8,
   "id": "ee5a708b-c166-43a9-9913-044b69d941fa",
   "metadata": {},
   "outputs": [],
   "source": [
    "data.to_excel('./data/data_gt_60_new0901.xlsx')"
   ]
  },
  {
   "cell_type": "code",
   "execution_count": null,
   "id": "096e689c-2098-4ff7-89fe-53dd609b4ece",
   "metadata": {},
   "outputs": [],
   "source": []
  }
 ],
 "metadata": {
  "kernelspec": {
   "display_name": "Python 3 (ipykernel)",
   "language": "python",
   "name": "python3"
  },
  "language_info": {
   "codemirror_mode": {
    "name": "ipython",
    "version": 3
   },
   "file_extension": ".py",
   "mimetype": "text/x-python",
   "name": "python",
   "nbconvert_exporter": "python",
   "pygments_lexer": "ipython3",
   "version": "3.9.13"
  }
 },
 "nbformat": 4,
 "nbformat_minor": 5
}
