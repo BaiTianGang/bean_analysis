{
 "cells": [
  {
   "cell_type": "code",
   "execution_count": 1,
   "id": "2cb70c31-1a13-4356-bd6f-40c2be93e559",
   "metadata": {
    "execution": {
     "iopub.execute_input": "2024-08-26T06:38:56.938788Z",
     "iopub.status.busy": "2024-08-26T06:38:56.938028Z",
     "iopub.status.idle": "2024-08-26T06:38:59.633901Z",
     "shell.execute_reply": "2024-08-26T06:38:59.633240Z",
     "shell.execute_reply.started": "2024-08-26T06:38:56.938730Z"
    },
    "tags": []
   },
   "outputs": [],
   "source": [
    "import numpy as np\n",
    "from scipy import stats\n",
    "from scipy.stats import chi2_contingency,ttest_ind,mannwhitneyu,kstest\n",
    "from sklearn.metrics import confusion_matrix\n",
    "import pandas as pd\n",
    "import json"
   ]
  },
  {
   "cell_type": "code",
   "execution_count": 2,
   "id": "0051885c-e75a-415f-b8fb-673962efcd45",
   "metadata": {
    "execution": {
     "iopub.execute_input": "2024-08-26T06:39:00.547182Z",
     "iopub.status.busy": "2024-08-26T06:39:00.546754Z",
     "iopub.status.idle": "2024-08-26T06:39:02.095794Z",
     "shell.execute_reply": "2024-08-26T06:39:02.095179Z",
     "shell.execute_reply.started": "2024-08-26T06:39:00.547157Z"
    },
    "tags": []
   },
   "outputs": [],
   "source": [
    "import pandas as pd \n",
    "data = pd.read_excel('./data/清洗数据-0714.xlsx')"
   ]
  },
  {
   "cell_type": "code",
   "execution_count": 5,
   "id": "b97ea61d-0383-4264-a416-6223ef415994",
   "metadata": {
    "execution": {
     "iopub.execute_input": "2024-08-26T06:39:53.546402Z",
     "iopub.status.busy": "2024-08-26T06:39:53.545835Z",
     "iopub.status.idle": "2024-08-26T06:39:53.554255Z",
     "shell.execute_reply": "2024-08-26T06:39:53.553329Z",
     "shell.execute_reply.started": "2024-08-26T06:39:53.546364Z"
    },
    "tags": []
   },
   "outputs": [],
   "source": [
    "# 定量分析的清单:数值类型的数据\n",
    "quantitative_analysis = [\"心率\",\"舒张压\",\"收缩压\",\"年龄\", \"LDL-C检测值\", \"HDL-C检测值\",\n",
    "                         \"TC检测值\", \"空腹血糖检测值\",\"最高值肌酐检测值\",\"首次血红蛋白检测值\",\n",
    "                        \"CK-MB最高值检测值\",\"TG检测值\", \"肌钙蛋白I最高值检测值\",\"肌钙蛋白T最高值检测值\",\n",
    "                        \"肌红蛋白最高值检测值\",\"糖化血红蛋白检测值\",\"BNP检测值\",\"NT-proBNP检测值\",\"LVEF\",\"乳酸脱氢酶最高值检测值.2\",\n",
    "                        \"TyG指数\", \"TG/HDL\"]\n",
    "\n",
    "\n",
    "\n",
    "# 定性分析的清单: 标签类型的数据 男女 是否\n",
    "qualitative_analysis = [\"性别\",\"戒烟：无\",\"吸烟史\",\"饮酒史\",\"既往心梗\",\"脑血管病史\",\n",
    "                        '合并高血压','合并糖尿病',\"既往心梗\",\"心衰史\",\"既往CABG\",\"既往PCI\",\n",
    "                        \"本次住院是否进行CABG治疗\",\"室壁瘤.1\",\"是否行PCI\",\n",
    "                        \"乳头肌功能不全或断裂\",\"室壁破裂\",\"室间隔穿孔\",\"附壁血栓\",\"室壁瘤\",\"并发症其他\",\n",
    "                        \"冠状动脉支架植入术后再狭窄\",\"冠状动脉支架内血栓形成\",\"急性亚急性支架血栓形成\",\"急性再发心肌梗死\",\"再梗死\",\"消化道出血.1\",\"心脏瓣膜病\",\n",
    "                        \"其他出血事件\",\n",
    "                        \"入院诊断\",\"首次心功能分级\",\"出院主要诊断\",\"LM_LAD_LCX_RCA\" # 不是二值变量\n",
    "                       ] "
   ]
  },
  {
   "cell_type": "code",
   "execution_count": 6,
   "id": "471bf7d5-49ff-48a4-abb0-3f32af0a06a1",
   "metadata": {
    "execution": {
     "iopub.execute_input": "2024-08-26T06:40:09.381137Z",
     "iopub.status.busy": "2024-08-26T06:40:09.380663Z",
     "iopub.status.idle": "2024-08-26T06:40:09.567811Z",
     "shell.execute_reply": "2024-08-26T06:40:09.567318Z",
     "shell.execute_reply.started": "2024-08-26T06:40:09.381111Z"
    },
    "tags": []
   },
   "outputs": [
    {
     "name": "stdout",
     "output_type": "stream",
     "text": [
      "是否行PCI\n",
      "是     1049\n",
      "否       60\n",
      "不详       2\n",
      "Name: count, dtype: int64\n"
     ]
    }
   ],
   "source": [
    "save_list = []\n",
    "\n",
    "def generate_array(demo_df, col_name):\n",
    "    group_stat = demo_df.value_counts([col_name,'mace']).reset_index().rename({0:\"count\"},axis=1)\n",
    "    group_df = group_stat.pivot(index=col_name,columns='mace',values='count')\n",
    "    # print(group_df)\n",
    "    return np.array(group_df)\n",
    "\n",
    "for col_name in qualitative_analysis: # 对定性分析的数据进行 卡方检验\n",
    "    # 输出内容： mace 组的值 非mace组的各值\n",
    "    # print(col_name)\n",
    "    if len(data[col_name].dropna()) < 1134:\n",
    "        # print(f\"{col_name}\")\n",
    "        print(data[col_name].value_counts())\n",
    "    cur_mace_info = mace_df[col_name].value_counts().to_dict()\n",
    "    cur_non_mace_info = non_mace_df[col_name].value_counts().to_dict()\n",
    "    \n",
    "    # print(data[col_name].value_counts())\n",
    "    cal_mat = generate_array(data,col_name)\n",
    "    chi2_res = chi2_contingency(cal_mat)\n",
    "    # print()\n",
    "    save_list.append([col_name,\n",
    "                      json.dumps(cur_mace_info,ensure_ascii=False), \n",
    "                     json.dumps(cur_non_mace_info,ensure_ascii=False),\n",
    "                     round(chi2_res.pvalue,4)])\n",
    "save_df = pd.DataFrame(save_list,columns=[\"指标\",\"mace\",\"非mace\",\"p-value\"])"
   ]
  },
  {
   "cell_type": "code",
   "execution_count": 7,
   "id": "053f542b-3081-43ae-a775-a2716a2e4306",
   "metadata": {
    "execution": {
     "iopub.execute_input": "2024-08-26T06:40:15.786046Z",
     "iopub.status.busy": "2024-08-26T06:40:15.785623Z",
     "iopub.status.idle": "2024-08-26T06:40:15.794904Z",
     "shell.execute_reply": "2024-08-26T06:40:15.794214Z",
     "shell.execute_reply.started": "2024-08-26T06:40:15.786025Z"
    },
    "tags": []
   },
   "outputs": [],
   "source": [
    "mace_total = 46 + 13\n",
    "non_mace_total = 310 + 91\n",
    "mace_ratio, non_mace_ratio = [], []\n",
    "for idx, col in save_df.iterrows():\n",
    "    mace_cont = json.loads(col['mace'])\n",
    "    non_mace_cont = json.loads(col['非mace'])\n",
    "    if \"是\" in mace_cont:\n",
    "        mace_cnt = mace_cont['是']\n",
    "        non_mace_cnt = non_mace_cont.get('是',0)\n",
    "    elif \"true\" in mace_cont:\n",
    "        mace_cnt = mace_cont['true']\n",
    "        non_mace_cnt = non_mace_cont['true']\n",
    "    else:\n",
    "        label = list(mace_cont.keys())[0]\n",
    "        mace_cnt  = mace_cont[label]\n",
    "        non_mace_cnt  = non_mace_cont[label]\n",
    "    mace_ratio.append(f\"{round(mace_cnt * 100 / mace_total, 2)}%\")\n",
    "    non_mace_ratio.append(f\"{round(non_mace_cnt * 100 / non_mace_total, 2)}%\")   \n",
    "save_df['mace比例'] = mace_ratio\n",
    "save_df['测试集比例'] = non_mace_ratio\n",
    "dx_df = save_df # 定性分析结果\n",
    "del save_df"
   ]
  },
  {
   "cell_type": "code",
   "execution_count": 8,
   "id": "4918b675-50c2-413e-9c0c-2e10611befc7",
   "metadata": {
    "execution": {
     "iopub.execute_input": "2024-08-26T06:40:21.985981Z",
     "iopub.status.busy": "2024-08-26T06:40:21.985568Z",
     "iopub.status.idle": "2024-08-26T06:40:22.044447Z",
     "shell.execute_reply": "2024-08-26T06:40:22.043950Z",
     "shell.execute_reply.started": "2024-08-26T06:40:21.985956Z"
    },
    "tags": []
   },
   "outputs": [],
   "source": [
    "dx_df.to_excel('./data/定性分析结果-0826.xlsx',index=None)"
   ]
  },
  {
   "cell_type": "code",
   "execution_count": 9,
   "id": "f65fe7ac-f249-4eb7-ad5e-72baffa00cf1",
   "metadata": {
    "execution": {
     "iopub.execute_input": "2024-08-26T06:40:26.199249Z",
     "iopub.status.busy": "2024-08-26T06:40:26.198765Z",
     "iopub.status.idle": "2024-08-26T06:40:26.460077Z",
     "shell.execute_reply": "2024-08-26T06:40:26.459483Z",
     "shell.execute_reply.started": "2024-08-26T06:40:26.199227Z"
    },
    "tags": []
   },
   "outputs": [
    {
     "name": "stderr",
     "output_type": "stream",
     "text": [
      "/tmp/ipykernel_90794/1646894356.py:13: SettingWithCopyWarning: \n",
      "A value is trying to be set on a copy of a slice from a DataFrame.\n",
      "Try using .loc[row_indexer,col_indexer] = value instead\n",
      "\n",
      "See the caveats in the documentation: https://pandas.pydata.org/pandas-docs/stable/user_guide/indexing.html#returning-a-view-versus-a-copy\n",
      "  mace_df[col_name] = mace_df[col_name].fillna(value=mace_df[col_name].mean())\n",
      "/tmp/ipykernel_90794/1646894356.py:14: SettingWithCopyWarning: \n",
      "A value is trying to be set on a copy of a slice from a DataFrame.\n",
      "Try using .loc[row_indexer,col_indexer] = value instead\n",
      "\n",
      "See the caveats in the documentation: https://pandas.pydata.org/pandas-docs/stable/user_guide/indexing.html#returning-a-view-versus-a-copy\n",
      "  non_mace_df[col_name] = non_mace_df[col_name].fillna(value=non_mace_df[col_name].mean())\n"
     ]
    }
   ],
   "source": [
    "save_list = []\n",
    "for col_name in quantitative_analysis: # 对定量分析的数据进行 先判断是否符合正正态分布 满足t检验 不满足 u检验\n",
    "    # 输出内容： mace 组的值 非mace组的各值\n",
    "    data_mean,data_std = np.mean(data[col_name]), np.std(data[col_name]) \n",
    "    norm_res = stats.kstest(data[col_name], 'norm', (data_mean, data_std))\n",
    "    if norm_res.pvalue > 0.05: # 大于0.05就是正态分布\n",
    "        is_norm = True\n",
    "    else:\n",
    "        is_norm = False\n",
    "    \n",
    "    # print(col_name)\n",
    "    # 填充空值\n",
    "    mace_df[col_name] = mace_df[col_name].fillna(value=mace_df[col_name].mean())\n",
    "    non_mace_df[col_name] = non_mace_df[col_name].fillna(value=non_mace_df[col_name].mean())\n",
    "    \n",
    "    \n",
    "    # 原有执行流程\n",
    "    cur_mace_arr = mace_df[col_name].dropna()\n",
    "    mace_mean, mace_std = np.mean(cur_mace_arr), np.std(cur_mace_arr)\n",
    "    cur_non_mace_arr = non_mace_df[col_name].dropna()\n",
    "    # if len(cur_mace_arr) + len(cur_non_mace_arr) != 1134:\n",
    "    #     print(f\"{col_name}\\t {len(cur_mace_arr) + len(cur_non_mace_arr)}\")\n",
    "    no_mace_mean, no_mace_std = np.mean(cur_non_mace_arr), np.std(cur_non_mace_arr)\n",
    "    \n",
    "    # 对数据进行是否正态分布的验证\n",
    "    statistic_t, p_value_t = ttest_ind(cur_mace_arr, cur_non_mace_arr)\n",
    "\n",
    "    statistic_u, p_value_u = mannwhitneyu(cur_mace_arr,cur_non_mace_arr,alternative='two-sided')\n",
    "    mace_quater_arr1, mace_quater_arr2,mace_quater_arr3 = np.percentile(cur_mace_arr, [25, 50, 75]).tolist()\n",
    "    non_quater_arr1, non_quater_arr2,non_quater_arr3 = np.percentile(cur_non_mace_arr, [25, 50, 75]).tolist()\n",
    "    \n",
    "    # print(data[col_name].value_counts())\n",
    "    # cal_mat = generate_array(data,col_name)\n",
    "    # chi2_res = chi2_contingency(cal_mat)\n",
    "    # print()\n",
    "    save_list.append([col_name,\n",
    "        f\"{round(mace_mean,2)}±{round(mace_std,2)}\",\n",
    "        f\"{round(no_mace_mean,2)}±{round(no_mace_std,2)}\",\n",
    "          round(statistic_t,4),\n",
    "          f\"{round(mace_quater_arr2,2)}({round(mace_quater_arr1,2)},{round(mace_quater_arr3,2)})\",\n",
    "          f\"{round(non_quater_arr2,2)}({round(non_quater_arr1,2)},{round(non_quater_arr3,2)})\",\n",
    "         round(p_value_t,4),\n",
    "         round(statistic_u,4),\n",
    "         round(p_value_u,4),\n",
    "         is_norm ])\n",
    "save_df = pd.DataFrame(save_list,columns=[\"指标\",\"mace\",\"非mace\",\"t统计值\",\"mace四分位数\",\"非mace四分位数\", \"p-value-t\", \"u统计值\", \"p-value-u\", \"是否正态分布\"])"
   ]
  },
  {
   "cell_type": "code",
   "execution_count": 10,
   "id": "ed37f0c0-1072-492b-b162-f6987bb47fcc",
   "metadata": {
    "execution": {
     "iopub.execute_input": "2024-08-26T06:40:49.860656Z",
     "iopub.status.busy": "2024-08-26T06:40:49.860097Z",
     "iopub.status.idle": "2024-08-26T06:40:49.876077Z",
     "shell.execute_reply": "2024-08-26T06:40:49.875505Z",
     "shell.execute_reply.started": "2024-08-26T06:40:49.860618Z"
    },
    "tags": []
   },
   "outputs": [],
   "source": [
    "dl_df = save_df # 定量分析结果\n",
    "del save_df\n",
    "dl_df.to_excel('./data/定量分析结果-0826.xlsx',index=None)"
   ]
  },
  {
   "cell_type": "code",
   "execution_count": null,
   "id": "b8b91430-c205-4d22-865c-eac4cf36a640",
   "metadata": {},
   "outputs": [],
   "source": []
  }
 ],
 "metadata": {
  "kernelspec": {
   "display_name": "Python 3 (ipykernel)",
   "language": "python",
   "name": "python3"
  },
  "language_info": {
   "codemirror_mode": {
    "name": "ipython",
    "version": 3
   },
   "file_extension": ".py",
   "mimetype": "text/x-python",
   "name": "python",
   "nbconvert_exporter": "python",
   "pygments_lexer": "ipython3",
   "version": "3.10.13"
  }
 },
 "nbformat": 4,
 "nbformat_minor": 5
}
