{
 "cells": [
  {
   "cell_type": "code",
   "execution_count": 1,
   "id": "a8bf929e-58b2-439f-8f99-373c8b6f9d86",
   "metadata": {
    "execution": {
     "iopub.execute_input": "2024-09-12T10:48:14.836016Z",
     "iopub.status.busy": "2024-09-12T10:48:14.835453Z",
     "iopub.status.idle": "2024-09-12T10:48:14.960774Z",
     "shell.execute_reply": "2024-09-12T10:48:14.959598Z",
     "shell.execute_reply.started": "2024-09-12T10:48:14.835983Z"
    },
    "tags": []
   },
   "outputs": [
    {
     "name": "stdout",
     "output_type": "stream",
     "text": [
      "/home/btg/work/jupyter_file/tmp/bean/bean_analysis/data/0912\n"
     ]
    }
   ],
   "source": [
    "!pwd"
   ]
  },
  {
   "cell_type": "code",
   "execution_count": null,
   "id": "4d0343a8-dc8b-4670-9d38-8844e0c95dd9",
   "metadata": {},
   "outputs": [],
   "source": []
  }
 ],
 "metadata": {
  "kernelspec": {
   "display_name": "Python 3 (ipykernel)",
   "language": "python",
   "name": "python3"
  },
  "language_info": {
   "codemirror_mode": {
    "name": "ipython",
    "version": 3
   },
   "file_extension": ".py",
   "mimetype": "text/x-python",
   "name": "python",
   "nbconvert_exporter": "python",
   "pygments_lexer": "ipython3",
   "version": "3.10.13"
  }
 },
 "nbformat": 4,
 "nbformat_minor": 5
}
