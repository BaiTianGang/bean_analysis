{
 "cells": [
  {
   "cell_type": "code",
   "execution_count": 8,
   "id": "04bdbf34-69f1-4b6f-9a38-8affb0be2d00",
   "metadata": {
    "execution": {
     "iopub.execute_input": "2024-08-28T07:58:48.626980Z",
     "iopub.status.busy": "2024-08-28T07:58:48.626487Z",
     "iopub.status.idle": "2024-08-28T07:58:50.488710Z",
     "shell.execute_reply": "2024-08-28T07:58:50.487174Z",
     "shell.execute_reply.started": "2024-08-28T07:58:48.626939Z"
    },
    "tags": []
   },
   "outputs": [
    {
     "name": "stdout",
     "output_type": "stream",
     "text": [
      "               coef  exp(coef)  se(coef)  coef lower 95%  coef upper 95%  \\\n",
      "covariate                                                                  \n",
      "fin       -0.379422   0.684257  0.191379       -0.754519       -0.004325   \n",
      "age       -0.057438   0.944181  0.021999       -0.100556       -0.014320   \n",
      "race       0.313900   1.368753  0.307993       -0.289755        0.917555   \n",
      "wexp      -0.149796   0.860884  0.212224       -0.565748        0.266156   \n",
      "mar       -0.433704   0.648104  0.381868       -1.182152        0.314744   \n",
      "paro      -0.084871   0.918631  0.195757       -0.468547        0.298805   \n",
      "prio       0.091497   1.095814  0.028649        0.035347        0.147647   \n",
      "\n",
      "           exp(coef) lower 95%  exp(coef) upper 95%  cmp to         z  \\\n",
      "covariate                                                               \n",
      "fin                   0.470237             0.995684     0.0 -1.982565   \n",
      "age                   0.904335             0.985782     0.0 -2.610869   \n",
      "race                  0.748447             2.503162     0.0  1.019179   \n",
      "wexp                  0.567935             1.304939     0.0 -0.705837   \n",
      "mar                   0.306618             1.369908     0.0 -1.135743   \n",
      "paro                  0.625911             1.348247     0.0 -0.433554   \n",
      "prio                  1.035979             1.159104     0.0  3.193777   \n",
      "\n",
      "                  p  -log2(p)  \n",
      "covariate                      \n",
      "fin        0.047416  4.398479  \n",
      "age        0.009031  6.790860  \n",
      "race       0.308118  1.698445  \n",
      "wexp       0.480290  1.058023  \n",
      "mar        0.256064  1.965422  \n",
      "paro       0.664612  0.589415  \n",
      "prio       0.001404  9.475989  \n"
     ]
    },
    {
     "ename": "ImportError",
     "evalue": "\n`load_boston` has been removed from scikit-learn since version 1.2.\n\nThe Boston housing prices dataset has an ethical problem: as\ninvestigated in [1], the authors of this dataset engineered a\nnon-invertible variable \"B\" assuming that racial self-segregation had a\npositive impact on house prices [2]. Furthermore the goal of the\nresearch that led to the creation of this dataset was to study the\nimpact of air quality but it did not give adequate demonstration of the\nvalidity of this assumption.\n\nThe scikit-learn maintainers therefore strongly discourage the use of\nthis dataset unless the purpose of the code is to study and educate\nabout ethical issues in data science and machine learning.\n\nIn this special case, you can fetch the dataset from the original\nsource::\n\n    import pandas as pd\n    import numpy as np\n\n    data_url = \"http://lib.stat.cmu.edu/datasets/boston\"\n    raw_df = pd.read_csv(data_url, sep=\"\\s+\", skiprows=22, header=None)\n    data = np.hstack([raw_df.values[::2, :], raw_df.values[1::2, :2]])\n    target = raw_df.values[1::2, 2]\n\nAlternative datasets include the California housing dataset and the\nAmes housing dataset. You can load the datasets as follows::\n\n    from sklearn.datasets import fetch_california_housing\n    housing = fetch_california_housing()\n\nfor the California housing dataset and::\n\n    from sklearn.datasets import fetch_openml\n    housing = fetch_openml(name=\"house_prices\", as_frame=True)\n\nfor the Ames housing dataset.\n\n[1] M Carlisle.\n\"Racist data destruction?\"\n<https://medium.com/@docintangible/racist-data-destruction-113e3eff54a8>\n\n[2] Harrison Jr, David, and Daniel L. Rubinfeld.\n\"Hedonic housing prices and the demand for clean air.\"\nJournal of environmental economics and management 5.1 (1978): 81-102.\n<https://www.researchgate.net/publication/4974606_Hedonic_housing_prices_and_the_demand_for_clean_air>\n",
     "output_type": "error",
     "traceback": [
      "\u001b[0;31m---------------------------------------------------------------------------\u001b[0m",
      "\u001b[0;31mImportError\u001b[0m                               Traceback (most recent call last)",
      "Cell \u001b[0;32mIn[8], line 18\u001b[0m\n\u001b[1;32m     14\u001b[0m \u001b[38;5;28mprint\u001b[39m(cph\u001b[38;5;241m.\u001b[39msummary)\n\u001b[1;32m     17\u001b[0m \u001b[38;5;28;01mfrom\u001b[39;00m \u001b[38;5;21;01msklearn\u001b[39;00m\u001b[38;5;21;01m.\u001b[39;00m\u001b[38;5;21;01mlinear_model\u001b[39;00m \u001b[38;5;28;01mimport\u001b[39;00m Lasso\n\u001b[0;32m---> 18\u001b[0m \u001b[38;5;28;01mfrom\u001b[39;00m \u001b[38;5;21;01msklearn\u001b[39;00m\u001b[38;5;21;01m.\u001b[39;00m\u001b[38;5;21;01mdatasets\u001b[39;00m \u001b[38;5;28;01mimport\u001b[39;00m load_boston\n\u001b[1;32m     19\u001b[0m \u001b[38;5;28;01mfrom\u001b[39;00m \u001b[38;5;21;01msklearn\u001b[39;00m\u001b[38;5;21;01m.\u001b[39;00m\u001b[38;5;21;01mpreprocessing\u001b[39;00m \u001b[38;5;28;01mimport\u001b[39;00m StandardScaler\n\u001b[1;32m     21\u001b[0m \u001b[38;5;66;03m# 加载数据集和标准化处理\u001b[39;00m\n",
      "File \u001b[0;32m/data/software/miniconda3/lib/python3.10/site-packages/sklearn/datasets/__init__.py:156\u001b[0m, in \u001b[0;36m__getattr__\u001b[0;34m(name)\u001b[0m\n\u001b[1;32m    105\u001b[0m \u001b[38;5;28;01mif\u001b[39;00m name \u001b[38;5;241m==\u001b[39m \u001b[38;5;124m\"\u001b[39m\u001b[38;5;124mload_boston\u001b[39m\u001b[38;5;124m\"\u001b[39m:\n\u001b[1;32m    106\u001b[0m     msg \u001b[38;5;241m=\u001b[39m textwrap\u001b[38;5;241m.\u001b[39mdedent(\n\u001b[1;32m    107\u001b[0m \u001b[38;5;250m        \u001b[39m\u001b[38;5;124;03m\"\"\"\u001b[39;00m\n\u001b[1;32m    108\u001b[0m \u001b[38;5;124;03m        `load_boston` has been removed from scikit-learn since version 1.2.\u001b[39;00m\n\u001b[0;32m   (...)\u001b[0m\n\u001b[1;32m    154\u001b[0m \u001b[38;5;124;03m        \"\"\"\u001b[39;00m\n\u001b[1;32m    155\u001b[0m     )\n\u001b[0;32m--> 156\u001b[0m     \u001b[38;5;28;01mraise\u001b[39;00m \u001b[38;5;167;01mImportError\u001b[39;00m(msg)\n\u001b[1;32m    157\u001b[0m \u001b[38;5;28;01mtry\u001b[39;00m:\n\u001b[1;32m    158\u001b[0m     \u001b[38;5;28;01mreturn\u001b[39;00m \u001b[38;5;28mglobals\u001b[39m()[name]\n",
      "\u001b[0;31mImportError\u001b[0m: \n`load_boston` has been removed from scikit-learn since version 1.2.\n\nThe Boston housing prices dataset has an ethical problem: as\ninvestigated in [1], the authors of this dataset engineered a\nnon-invertible variable \"B\" assuming that racial self-segregation had a\npositive impact on house prices [2]. Furthermore the goal of the\nresearch that led to the creation of this dataset was to study the\nimpact of air quality but it did not give adequate demonstration of the\nvalidity of this assumption.\n\nThe scikit-learn maintainers therefore strongly discourage the use of\nthis dataset unless the purpose of the code is to study and educate\nabout ethical issues in data science and machine learning.\n\nIn this special case, you can fetch the dataset from the original\nsource::\n\n    import pandas as pd\n    import numpy as np\n\n    data_url = \"http://lib.stat.cmu.edu/datasets/boston\"\n    raw_df = pd.read_csv(data_url, sep=\"\\s+\", skiprows=22, header=None)\n    data = np.hstack([raw_df.values[::2, :], raw_df.values[1::2, :2]])\n    target = raw_df.values[1::2, 2]\n\nAlternative datasets include the California housing dataset and the\nAmes housing dataset. You can load the datasets as follows::\n\n    from sklearn.datasets import fetch_california_housing\n    housing = fetch_california_housing()\n\nfor the California housing dataset and::\n\n    from sklearn.datasets import fetch_openml\n    housing = fetch_openml(name=\"house_prices\", as_frame=True)\n\nfor the Ames housing dataset.\n\n[1] M Carlisle.\n\"Racist data destruction?\"\n<https://medium.com/@docintangible/racist-data-destruction-113e3eff54a8>\n\n[2] Harrison Jr, David, and Daniel L. Rubinfeld.\n\"Hedonic housing prices and the demand for clean air.\"\nJournal of environmental economics and management 5.1 (1978): 81-102.\n<https://www.researchgate.net/publication/4974606_Hedonic_housing_prices_and_the_demand_for_clean_air>\n"
     ]
    }
   ],
   "source": [
    "from lifelines import CoxPHFitter\n",
    "from lifelines.datasets import load_rossi\n",
    "\n",
    "# 加载数据集\n",
    "data = load_rossi()\n",
    "\n",
    "# 初始化 Cox 模型\n",
    "cph = CoxPHFitter()\n",
    "\n",
    "# 拟合 Cox 模型\n",
    "cph.fit(data, duration_col='week', event_col='arrest')\n",
    "\n",
    "# 打印 Cox 模型的系数\n",
    "print(cph.summary)\n",
    "\n",
    "\n",
    "from sklearn.linear_model import Lasso\n",
    "from sklearn.datasets import load_boston\n",
    "from sklearn.preprocessing import StandardScaler\n",
    "\n",
    "# 加载数据集和标准化处理\n",
    "boston = load_boston()\n",
    "X = StandardScaler().fit_transform(boston.data)\n",
    "y = boston.target\n",
    "\n",
    "# 初始化 LASSO 模型\n",
    "lasso = Lasso(alpha=0.1)\n",
    "\n",
    "# 拟合 LASSO 模型\n",
    "lasso.fit(X, y)\n",
    "\n",
    "# 输出 LASSO 模型的系数\n",
    "print(lasso.coef_)\n"
   ]
  },
  {
   "cell_type": "code",
   "execution_count": 5,
   "id": "b0856a15-f6d9-41bc-85ff-876535dd7c32",
   "metadata": {
    "execution": {
     "iopub.execute_input": "2024-08-28T02:59:36.431591Z",
     "iopub.status.busy": "2024-08-28T02:59:36.431083Z",
     "iopub.status.idle": "2024-08-28T02:59:36.444440Z",
     "shell.execute_reply": "2024-08-28T02:59:36.443490Z",
     "shell.execute_reply.started": "2024-08-28T02:59:36.431562Z"
    },
    "tags": []
   },
   "outputs": [
    {
     "data": {
      "text/html": [
       "<div>\n",
       "<style scoped>\n",
       "    .dataframe tbody tr th:only-of-type {\n",
       "        vertical-align: middle;\n",
       "    }\n",
       "\n",
       "    .dataframe tbody tr th {\n",
       "        vertical-align: top;\n",
       "    }\n",
       "\n",
       "    .dataframe thead th {\n",
       "        text-align: right;\n",
       "    }\n",
       "</style>\n",
       "<table border=\"1\" class=\"dataframe\">\n",
       "  <thead>\n",
       "    <tr style=\"text-align: right;\">\n",
       "      <th></th>\n",
       "      <th>0</th>\n",
       "    </tr>\n",
       "  </thead>\n",
       "  <tbody>\n",
       "    <tr>\n",
       "      <th>1.0</th>\n",
       "      <td>0.846482</td>\n",
       "    </tr>\n",
       "  </tbody>\n",
       "</table>\n",
       "</div>"
      ],
      "text/plain": [
       "            0\n",
       "1.0  0.846482"
      ]
     },
     "execution_count": 5,
     "metadata": {},
     "output_type": "execute_result"
    }
   ],
   "source": [
    "survival_probability"
   ]
  },
  {
   "cell_type": "code",
   "execution_count": 6,
   "id": "82006f11-2df4-48c7-81c1-2c27c227d850",
   "metadata": {
    "execution": {
     "iopub.execute_input": "2024-08-28T03:08:03.936799Z",
     "iopub.status.busy": "2024-08-28T03:08:03.935656Z",
     "iopub.status.idle": "2024-08-28T03:08:03.945877Z",
     "shell.execute_reply": "2024-08-28T03:08:03.945138Z",
     "shell.execute_reply.started": "2024-08-28T03:08:03.936746Z"
    },
    "tags": []
   },
   "outputs": [],
   "source": [
    "https://blog.csdn.net/maiyida123/article/details/119736185 KM分析和cox分析代码"
   ]
  },
  {
   "cell_type": "code",
   "execution_count": null,
   "id": "52e6db34-3114-4fff-92ba-81793f57b27c",
   "metadata": {},
   "outputs": [],
   "source": []
  }
 ],
 "metadata": {
  "kernelspec": {
   "display_name": "Python 3 (ipykernel)",
   "language": "python",
   "name": "python3"
  },
  "language_info": {
   "codemirror_mode": {
    "name": "ipython",
    "version": 3
   },
   "file_extension": ".py",
   "mimetype": "text/x-python",
   "name": "python",
   "nbconvert_exporter": "python",
   "pygments_lexer": "ipython3",
   "version": "3.9.13"
  }
 },
 "nbformat": 4,
 "nbformat_minor": 5
}
