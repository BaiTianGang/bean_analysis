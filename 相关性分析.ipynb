{
 "cells": [
  {
   "cell_type": "code",
   "execution_count": 8,
   "id": "5bc28e48-9c00-4561-81e0-e115c31b9c89",
   "metadata": {
    "execution": {
     "iopub.execute_input": "2024-08-26T06:50:39.877711Z",
     "iopub.status.busy": "2024-08-26T06:50:39.876897Z",
     "iopub.status.idle": "2024-08-26T06:50:41.037608Z",
     "shell.execute_reply": "2024-08-26T06:50:41.036660Z",
     "shell.execute_reply.started": "2024-08-26T06:50:39.877658Z"
    },
    "tags": []
   },
   "outputs": [],
   "source": [
    "import pandas as pd \n",
    "data = pd.read_excel('./data/清洗数据-0714.xlsx')\n",
    "data_lt_60 = data[data['年龄']>60]"
   ]
  },
  {
   "cell_type": "code",
   "execution_count": null,
   "id": "df7260d4-b7d8-443b-bbd9-421de29d75a3",
   "metadata": {},
   "outputs": [],
   "source": [
    "slct_col = [\"TyG指数\",\"TG/HDL\",\"LM_LAD_LCX_RCA\",\"LVEF\"]\n"
   ]
  },
  {
   "cell_type": "code",
   "execution_count": 2,
   "id": "b4cf3575-8832-4f51-80a5-363211852b0b",
   "metadata": {
    "execution": {
     "iopub.execute_input": "2024-08-26T06:46:08.056377Z",
     "iopub.status.busy": "2024-08-26T06:46:08.056025Z",
     "iopub.status.idle": "2024-08-26T06:46:08.062915Z",
     "shell.execute_reply": "2024-08-26T06:46:08.062475Z",
     "shell.execute_reply.started": "2024-08-26T06:46:08.056357Z"
    },
    "tags": []
   },
   "outputs": [
    {
     "data": {
      "text/plain": [
       "['Subject',\n",
       " '年龄',\n",
       " '性别',\n",
       " '心率',\n",
       " '舒张压',\n",
       " '收缩压',\n",
       " '戒烟：无',\n",
       " '吸烟史',\n",
       " '饮酒史',\n",
       " '既往心梗',\n",
       " '脑血管病史',\n",
       " '血脂异常.1',\n",
       " '血脂异常',\n",
       " '高血压',\n",
       " '既往高血压',\n",
       " '糖尿病.1',\n",
       " '糖尿病',\n",
       " '心衰史',\n",
       " '既往CABG',\n",
       " '既往PCI',\n",
       " '入院诊断',\n",
       " '首次心功能分级',\n",
       " '出院主要诊断',\n",
       " '本次住院是否进行CABG治疗',\n",
       " '室壁瘤.1',\n",
       " '是否行PCI',\n",
       " 'PCI类型',\n",
       " 'LDL-C检测值',\n",
       " 'HDL-C检测值',\n",
       " 'TC检测值',\n",
       " '空腹血糖检测值',\n",
       " '最高值肌酐检测值',\n",
       " '首次血红蛋白检测值',\n",
       " 'CK-MB最高值检测值',\n",
       " 'TG检测值',\n",
       " '肌钙蛋白I最高值检测值',\n",
       " '肌钙蛋白T最高值检测值',\n",
       " '肌红蛋白最高值检测值',\n",
       " '乳酸脱氢酶最高值检测值.1',\n",
       " '乳酸脱氢酶最高值检测值.2',\n",
       " '糖化血红蛋白检测值',\n",
       " 'BNP检测值',\n",
       " 'NT-proBNP检测值',\n",
       " 'LVEF',\n",
       " '乳头肌功能不全或断裂',\n",
       " '室壁破裂',\n",
       " '室间隔穿孔',\n",
       " '附壁血栓',\n",
       " '室壁瘤',\n",
       " '并发症其他',\n",
       " '心源性休克.2',\n",
       " '心源性休克.1',\n",
       " '心源性休克',\n",
       " '住院期间心衰',\n",
       " '心衰',\n",
       " '心力衰竭',\n",
       " '心律失常',\n",
       " '恶性心律失常',\n",
       " '房性早搏',\n",
       " '房颤',\n",
       " '心房颤动',\n",
       " '心室颤动',\n",
       " '房室传导阻滞',\n",
       " '严重房室传导阻滞',\n",
       " '室性心动过速',\n",
       " '室性早搏',\n",
       " '死亡',\n",
       " '心源性猝死',\n",
       " '心脏骤停.1',\n",
       " '心脏骤停',\n",
       " '心脏停搏',\n",
       " '冠状动脉支架植入术后再狭窄',\n",
       " '冠状动脉支架内血栓形成',\n",
       " '急性亚急性支架血栓形成',\n",
       " '急性再发心肌梗死',\n",
       " '再梗死',\n",
       " '消化道出血.1',\n",
       " '心脏瓣膜病',\n",
       " '其他出血事件',\n",
       " 'LM_LAD_LCX_RCA',\n",
       " 'Killip分级',\n",
       " '心功能分级',\n",
       " '合并高血压',\n",
       " '合并糖尿病',\n",
       " '合并心源性休克',\n",
       " '合并心衰',\n",
       " '合并心律失常',\n",
       " '合并恶性心律失常',\n",
       " '合并心脏骤停',\n",
       " '合并死亡',\n",
       " 'mace',\n",
       " 'mace对比',\n",
       " 'TyG指数',\n",
       " 'TG/HDL']"
      ]
     },
     "execution_count": 2,
     "metadata": {},
     "output_type": "execute_result"
    }
   ],
   "source": [
    "data.columns.tolist()"
   ]
  },
  {
   "cell_type": "code",
   "execution_count": 10,
   "id": "f302e581-fce2-47c1-b036-d8da0b2f9910",
   "metadata": {
    "execution": {
     "iopub.execute_input": "2024-08-26T06:50:56.181998Z",
     "iopub.status.busy": "2024-08-26T06:50:56.181189Z",
     "iopub.status.idle": "2024-08-26T06:50:56.192890Z",
     "shell.execute_reply": "2024-08-26T06:50:56.191619Z",
     "shell.execute_reply.started": "2024-08-26T06:50:56.181930Z"
    },
    "tags": []
   },
   "outputs": [
    {
     "data": {
      "text/plain": [
       "116"
      ]
     },
     "execution_count": 10,
     "metadata": {},
     "output_type": "execute_result"
    }
   ],
   "source": [
    "data_lt_60[\"Killip分级\"].value_counts().sum()"
   ]
  },
  {
   "cell_type": "code",
   "execution_count": null,
   "id": "bbe5705f-fd78-49cf-b2ee-2811c02023b0",
   "metadata": {},
   "outputs": [],
   "source": []
  }
 ],
 "metadata": {
  "kernelspec": {
   "display_name": "Python 3 (ipykernel)",
   "language": "python",
   "name": "python3"
  },
  "language_info": {
   "codemirror_mode": {
    "name": "ipython",
    "version": 3
   },
   "file_extension": ".py",
   "mimetype": "text/x-python",
   "name": "python",
   "nbconvert_exporter": "python",
   "pygments_lexer": "ipython3",
   "version": "3.10.13"
  }
 },
 "nbformat": 4,
 "nbformat_minor": 5
}
