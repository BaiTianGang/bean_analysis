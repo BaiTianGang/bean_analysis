{
 "cells": [
  {
   "cell_type": "code",
   "execution_count": 1,
   "id": "8c3b1621-ee1a-4eb3-8186-064a3ff9b1da",
   "metadata": {
    "tags": []
   },
   "outputs": [],
   "source": [
    "import re\n",
    "from scipy.stats import pearsonr,spearmanr"
   ]
  },
  {
   "cell_type": "code",
   "execution_count": 2,
   "id": "c5fad60c-5f08-4860-8391-ef512803062d",
   "metadata": {
    "tags": []
   },
   "outputs": [],
   "source": [
    "level_dic = {\"I级\":1, \"II级\":2, \"III级\":3, \"IV级\":4}\n",
    "def proc_level(cont1, cont2):\n",
    "    if not pd.isna(cont1):\n",
    "        # print(cont1)\n",
    "        level =  re.search(\"I级|II级|III级|IV级\",cont1).group(0)\n",
    "    elif not pd.isna(cont2):\n",
    "        # print(cont2)\n",
    "        level = re.search(\"I级|II级|III级|IV级\",cont2).group(0)\n",
    "    else:\n",
    "        level = \"I级\"\n",
    "    return level_dic[level]\n",
    "\n",
    "def fill_lvef(cont1, cont2):\n",
    "    if pd.isna(cont2):\n",
    "        return mean_mace if cont1 else mean_non_mace\n",
    "    else:\n",
    "        return cont2"
   ]
  },
  {
   "cell_type": "code",
   "execution_count": 3,
   "id": "8fa91021-7314-4749-bbd8-f335955e650a",
   "metadata": {
    "tags": []
   },
   "outputs": [],
   "source": [
    "import pandas as pd \n",
    "data = pd.read_excel('./data/data_gt_60.xlsx')\n",
    "# data_lt_60 = data[data['年龄']>60]"
   ]
  },
  {
   "cell_type": "code",
   "execution_count": 5,
   "id": "df7260d4-b7d8-443b-bbd9-421de29d75a3",
   "metadata": {},
   "outputs": [],
   "source": [
    "# 2.全体TyG、TG/HDL与 冠脉病变支数、LVEF 、心功能分级 person/spearman相关性分析\n",
    "# 前2是数值 分桶为4 跟后三分别做相关性分析\n",
    "slct_col = [\"TyG指数\",\"TG/HDL\",\"LM_LAD_LCX_RCA\",\"LVEF\",\"Killip分级\",\"心功能分级\",\"mace\"]\n",
    "slct_df = data[slct_col]"
   ]
  },
  {
   "cell_type": "code",
   "execution_count": 6,
   "id": "b4cf3575-8832-4f51-80a5-363211852b0b",
   "metadata": {
    "tags": []
   },
   "outputs": [
    {
     "name": "stderr",
     "output_type": "stream",
     "text": [
      "/var/folders/6y/2k_kxtyd07v79br33f6gvjn00000gn/T/ipykernel_26642/2122809672.py:8: SettingWithCopyWarning: \n",
      "A value is trying to be set on a copy of a slice from a DataFrame.\n",
      "Try using .loc[row_indexer,col_indexer] = value instead\n",
      "\n",
      "See the caveats in the documentation: https://pandas.pydata.org/pandas-docs/stable/user_guide/indexing.html#returning-a-view-versus-a-copy\n",
      "  slct_df[\"proc_LVEF\"] = slct_df.apply(lambda x: fill_lvef(x.mace, x.LVEF),axis=1)\n",
      "/var/folders/6y/2k_kxtyd07v79br33f6gvjn00000gn/T/ipykernel_26642/2122809672.py:11: SettingWithCopyWarning: \n",
      "A value is trying to be set on a copy of a slice from a DataFrame.\n",
      "Try using .loc[row_indexer,col_indexer] = value instead\n",
      "\n",
      "See the caveats in the documentation: https://pandas.pydata.org/pandas-docs/stable/user_guide/indexing.html#returning-a-view-versus-a-copy\n",
      "  slct_df[\"分级处理\"] = slct_df.apply(lambda x: proc_level(x.Killip分级, x.心功能分级),axis=1)\n"
     ]
    }
   ],
   "source": [
    "# 缺失值处理\n",
    "slct_df.dropna(subset=['mace'])\n",
    "mace_df = slct_df[slct_df['mace']==True]\n",
    "non_mace_df = slct_df[slct_df['mace']==False]\n",
    "# 对LVEF填充空值\n",
    "mean_mace = int(mace_df.LVEF.mean())\n",
    "mean_non_mace = int(non_mace_df.LVEF.mean())\n",
    "slct_df[\"proc_LVEF\"] = slct_df.apply(lambda x: fill_lvef(x.mace, x.LVEF),axis=1)\n",
    "\n",
    "# 对Killip分级、心功能分级填充空值\n",
    "slct_df[\"分级处理\"] = slct_df.apply(lambda x: proc_level(x.Killip分级, x.心功能分级),axis=1)\n",
    "\n",
    "slct_df = slct_df.dropna(subset=[\n",
    "    \"TyG指数\",\"TG/HDL\",\"LM_LAD_LCX_RCA\",\"分级处理\",\"mace\",\"proc_LVEF\"])[[\n",
    "    \"TyG指数\",\"TG/HDL\",\"LM_LAD_LCX_RCA\",\"分级处理\",\"mace\",\"proc_LVEF\"]]\n",
    "\n",
    "Lesion_map = {\"单支\":1, \"双支\":2, \"多支\":3}\n",
    "slct_df[\"LM_LAD_LCX_RCA\"] = slct_df.apply(lambda x: Lesion_map[x.LM_LAD_LCX_RCA],axis=1)"
   ]
  },
  {
   "cell_type": "code",
   "execution_count": 7,
   "id": "3c851210-fedc-4653-ba35-e35fef3bb39b",
   "metadata": {},
   "outputs": [],
   "source": [
    "res_list = []"
   ]
  },
  {
   "cell_type": "code",
   "execution_count": 8,
   "id": "f4edf919-6072-4f83-9541-c14f3876e445",
   "metadata": {},
   "outputs": [
    {
     "name": "stdout",
     "output_type": "stream",
     "text": [
      "spearmanr 相关系数0.06129936347006171, 显著性水平0.18939120502551163：\n",
      "pearsonr 相关系数0.0821306426361706, 显著性水平0.07846085543870918：\n"
     ]
    }
   ],
   "source": [
    "# \"TyG指数\",\"TG/HDL\",\"LM_LAD_LCX_RCA\",\"分级处理\",\"mace\",\"proc_LVEF\"\n",
    "pc = spearmanr(slct_df['TyG指数'],slct_df['LM_LAD_LCX_RCA'])\n",
    "res_list.append([\"TyG指数\",\"LM_LAD_LCX_RCA\",\"spearmanr\", pc[0], pc[1]])\n",
    "print(\"spearmanr 相关系数{}, 显著性水平{}：\".format(pc[0], pc[1]))\n",
    "pc = pearsonr(slct_df['TyG指数'],slct_df['LM_LAD_LCX_RCA'])\n",
    "print(\"pearsonr 相关系数{}, 显著性水平{}：\".format(pc[0], pc[1]))\n",
    "res_list.append([\"TyG指数\",\"LM_LAD_LCX_RCA\",\"pearsonr\", pc[0], pc[1]])\n",
    "\n",
    "# slct_df.corr(method='spearman')"
   ]
  },
  {
   "cell_type": "code",
   "execution_count": 9,
   "id": "738c345b-aa0e-496d-aa60-90b5577ba5a2",
   "metadata": {},
   "outputs": [
    {
     "name": "stdout",
     "output_type": "stream",
     "text": [
      "spearmanr 相关系数0.1567181912276227, 显著性水平0.0007436743772008765：\n",
      "pearsonr 相关系数0.15933167026689674, 显著性水平0.0006037552523844603：\n"
     ]
    }
   ],
   "source": [
    "pc = spearmanr(slct_df['TyG指数'],slct_df['分级处理'])\n",
    "print(\"spearmanr 相关系数{}, 显著性水平{}：\".format(pc[0], pc[1]))\n",
    "res_list.append([\"TyG指数\",\"分级处理\",\"spearmanr\", pc[0], pc[1]])\n",
    "\n",
    "\n",
    "pc = pearsonr(slct_df['TyG指数'],slct_df['分级处理'])\n",
    "print(\"pearsonr 相关系数{}, 显著性水平{}：\".format(pc[0], pc[1]))\n",
    "res_list.append([\"TyG指数\",\"分级处理\",\"pearsonr\", pc[0], pc[1]])\n",
    "\n",
    "# slct_df.corr(method='spearman')"
   ]
  },
  {
   "cell_type": "code",
   "execution_count": 10,
   "id": "e07efbb6-0995-430f-b39d-e467ec7a0673",
   "metadata": {},
   "outputs": [
    {
     "name": "stdout",
     "output_type": "stream",
     "text": [
      "spearmanr 相关系数0.31209140217781456, 显著性水平7.53278024352688e-12：\n",
      "pearsonr 相关系数0.2863040513405108, 显著性水平3.968870216662081e-10：\n"
     ]
    }
   ],
   "source": [
    "pc = spearmanr(slct_df['TyG指数'],slct_df['mace'])\n",
    "print(\"spearmanr 相关系数{}, 显著性水平{}：\".format(pc[0], pc[1]))\n",
    "res_list.append([\"TyG指数\",\"mace\",\"spearmanr\", pc[0], pc[1]])\n",
    "\n",
    "pc = pearsonr(slct_df['TyG指数'],slct_df['mace'])\n",
    "print(\"pearsonr 相关系数{}, 显著性水平{}：\".format(pc[0], pc[1]))\n",
    "res_list.append([\"TyG指数\",\"mace\",\"pearsonr\", pc[0], pc[1]])\n",
    "\n",
    "\n",
    "# slct_df.corr(method='spearman')"
   ]
  },
  {
   "cell_type": "code",
   "execution_count": 11,
   "id": "0688645d-0ee4-4610-bcae-e737c591e92e",
   "metadata": {},
   "outputs": [
    {
     "name": "stdout",
     "output_type": "stream",
     "text": [
      "spearmanr 相关系数-0.06656600722867308, 显著性水平0.15404776763738695：\n",
      "pearsonr 相关系数-0.11073043521871528, 显著性水平0.017513248931804778：\n"
     ]
    }
   ],
   "source": [
    "pc = spearmanr(slct_df['TyG指数'],slct_df['proc_LVEF'])\n",
    "print(\"spearmanr 相关系数{}, 显著性水平{}：\".format(pc[0], pc[1]))\n",
    "res_list.append([\"TyG指数\",\"proc_LVEF\",\"spearmanr\", pc[0], pc[1]])\n",
    "\n",
    "\n",
    "pc = pearsonr(slct_df['TyG指数'],slct_df['proc_LVEF'])\n",
    "print(\"pearsonr 相关系数{}, 显著性水平{}：\".format(pc[0], pc[1]))\n",
    "res_list.append([\"TyG指数\",\"proc_LVEF\",\"pearsonr\", pc[0], pc[1]])\n",
    "\n",
    "\n",
    "# slct_df.corr(method='spearman')"
   ]
  },
  {
   "cell_type": "code",
   "execution_count": 12,
   "id": "54b89e69-e3a0-41fc-84c6-7ca85c0986e5",
   "metadata": {},
   "outputs": [
    {
     "name": "stdout",
     "output_type": "stream",
     "text": [
      "spearmanr 相关系数0.047140165291966234, 显著性水平0.3130446599364736：\n",
      "pearsonr 相关系数-0.0276511440424399, 显著性水平0.5541516171472499：\n"
     ]
    }
   ],
   "source": [
    "pc = spearmanr(slct_df['TG/HDL'],slct_df['LM_LAD_LCX_RCA'])\n",
    "print(\"spearmanr 相关系数{}, 显著性水平{}：\".format(pc[0], pc[1]))\n",
    "\n",
    "res_list.append([\"TG/HDL\",\"LM_LAD_LCX_RCA\",\"spearmanr\", pc[0], pc[1]])\n",
    "\n",
    "\n",
    "pc = pearsonr(slct_df['TG/HDL'],slct_df['LM_LAD_LCX_RCA'])\n",
    "print(\"pearsonr 相关系数{}, 显著性水平{}：\".format(pc[0], pc[1]))\n",
    "res_list.append([\"TG/HDL\",\"LM_LAD_LCX_RCA\",\"pearsonr\", pc[0], pc[1]])\n",
    "\n",
    "\n",
    "# slct_df.corr(method='spearman')"
   ]
  },
  {
   "cell_type": "code",
   "execution_count": 13,
   "id": "b90d2c1a-8e5c-4d4a-8cf7-2db12a0bc6fd",
   "metadata": {},
   "outputs": [
    {
     "name": "stdout",
     "output_type": "stream",
     "text": [
      "spearmanr 相关系数0.07772333657491044, 显著性水平0.09591999310358154：\n",
      "pearsonr 相关系数0.013652629534960138, 显著性水平0.7702612398566288：\n"
     ]
    }
   ],
   "source": [
    "pc = spearmanr(slct_df['TG/HDL'],slct_df['分级处理'])\n",
    "print(\"spearmanr 相关系数{}, 显著性水平{}：\".format(pc[0], pc[1]))\n",
    "res_list.append([\"TG/HDL\",\"分级处理\",\"spearmanr\", pc[0], pc[1]])\n",
    "\n",
    "\n",
    "pc = pearsonr(slct_df['TG/HDL'],slct_df['分级处理'])\n",
    "print(\"pearsonr 相关系数{}, 显著性水平{}：\".format(pc[0], pc[1]))\n",
    "res_list.append([\"TG/HDL\",\"分级处理\",\"pearsonr\", pc[0], pc[1]])\n",
    "\n",
    "# slct_df.corr(method='spearman')"
   ]
  },
  {
   "cell_type": "code",
   "execution_count": 14,
   "id": "0f1fa018-ed80-49e3-9d57-56e6217c9947",
   "metadata": {},
   "outputs": [
    {
     "name": "stdout",
     "output_type": "stream",
     "text": [
      "spearmanr 相关系数0.14719633868138637, 显著性水平0.0015472065362140811：\n",
      "pearsonr 相关系数0.0033514443349583894, 显著性水平0.9428525123323455：\n"
     ]
    }
   ],
   "source": [
    "pc = spearmanr(slct_df['TG/HDL'],slct_df['mace'])\n",
    "print(\"spearmanr 相关系数{}, 显著性水平{}：\".format(pc[0], pc[1]))\n",
    "res_list.append([\"TG/HDL\",\"mace\",\"spearmanr\", pc[0], pc[1]])\n",
    "\n",
    "\n",
    "pc = pearsonr(slct_df['TG/HDL'],slct_df['mace'])\n",
    "print(\"pearsonr 相关系数{}, 显著性水平{}：\".format(pc[0], pc[1]))\n",
    "res_list.append([\"TG/HDL\",\"mace\",\"pearsonr\", pc[0], pc[1]])\n",
    "\n",
    "# slct_df.corr(method='spearman')"
   ]
  },
  {
   "cell_type": "code",
   "execution_count": 15,
   "id": "8dec2fa6-46f9-443d-84cc-93f0b0f5f4a0",
   "metadata": {},
   "outputs": [
    {
     "name": "stdout",
     "output_type": "stream",
     "text": [
      "spearmanr 相关系数0.03605417650537891, 显著性水平0.4404563374662155：\n",
      "pearsonr 相关系数-0.005519561775861166, 显著性水平0.9060199433328372：\n"
     ]
    }
   ],
   "source": [
    "pc = spearmanr(slct_df['TG/HDL'],slct_df['proc_LVEF'])\n",
    "print(\"spearmanr 相关系数{}, 显著性水平{}：\".format(pc[0], pc[1]))\n",
    "res_list.append([\"TG/HDL\",\"proc_LVEF\",\"spearmanr\", pc[0], pc[1]])\n",
    "\n",
    "\n",
    "pc = pearsonr(slct_df['TG/HDL'],slct_df['proc_LVEF'])\n",
    "print(\"pearsonr 相关系数{}, 显著性水平{}：\".format(pc[0], pc[1]))\n",
    "res_list.append([\"TG/HDL\",\"proc_LVEF\",\"pearsonr\", pc[0], pc[1]])\n",
    "\n",
    "\n",
    "# slct_df.corr(method='spearman')"
   ]
  },
  {
   "cell_type": "code",
   "execution_count": 40,
   "id": "d88360d6-27f1-4e98-b803-658dbaba6275",
   "metadata": {},
   "outputs": [],
   "source": [
    "col = \"变量1 变量2 相关系数方法 相关系数 显著性水平\".split(\" \")\n",
    "res_df = pd.DataFrame(res_list,\n",
    "             columns=col)\n",
    "res_df.to_excel('./data/相关性分析.xlsx',index=None)"
   ]
  },
  {
   "cell_type": "code",
   "execution_count": null,
   "id": "013fb4d8-7291-4e34-8bea-100665564fa3",
   "metadata": {},
   "outputs": [],
   "source": [
    "# 01均为连续变量\n",
    "\n",
    "# Pearson相关，用于评估两个连续变量之间的线性关联强度\n",
    "# 简单线性回归，也可以用来评估两个连续变量之间的相关性，但是需要区分自变量和因变量。\n",
    "# 02含有有序分类变量\n",
    "\n",
    "# Spearman相关，用于检验至少含有一个有序分类变量的关联强度和方向。\n",
    "# Kendall's tau-b相关系数，用于检验至少有一个有序分类变量关联强度和方向的非参数分析方法。\n",
    "# 03含有无序分类变量\n",
    "\n",
    "# 卡方检验，常用于分析无序分类变量之间的相关性，也可以用于分析二分类变量之间的关系。但是该方法只能对是否具有相关性进行统计分析，不能反映关联强度。\n",
    "# Fisher精确检验，可以用于检验任何R*C数据之间的相关关系。"
   ]
  },
  {
   "cell_type": "code",
   "execution_count": 36,
   "id": "ff42ef0e-1184-442b-8ce4-bb280889202c",
   "metadata": {},
   "outputs": [
    {
     "data": {
      "text/plain": [
       "['变量1', '变量2', '相关系数方法', '相关系数', '显著性水平']"
      ]
     },
     "execution_count": 36,
     "metadata": {},
     "output_type": "execute_result"
    }
   ],
   "source": [
    "\"变量1 变量2 相关系数方法 相关系数 显著性水平\".split(\" \")"
   ]
  },
  {
   "cell_type": "code",
   "execution_count": 38,
   "id": "2c4520b8-3bdf-48ab-8d17-ed05a87b6c4e",
   "metadata": {},
   "outputs": [
    {
     "data": {
      "text/plain": [
       "[['TyG指数',\n",
       "  'LM_LAD_LCX_RCA',\n",
       "  'spearmanr',\n",
       "  0.05780963385673955,\n",
       "  0.21588659672334268],\n",
       " ['TyG指数',\n",
       "  'LM_LAD_LCX_RCA',\n",
       "  'pearsonr',\n",
       "  0.07824918383928745,\n",
       "  0.09368672720827081],\n",
       " ['TyG指数', '分级处理', 'spearmanr', 0.05602446636580009, 0.23042541208564904],\n",
       " ['TyG指数', '分级处理', 'pearsonr', 0.0597234419005903, 0.2010444591208584],\n",
       " ['TyG指数', 'mace', 'spearmanr', 0.13316944292472438, 0.0042210882084548484],\n",
       " ['TyG指数', 'mace', 'pearsonr', 0.1306677970774441, 0.00500159830121159],\n",
       " ['TyG指数', 'proc_LVEF', 'spearmanr', -0.02678594237419428, 0.5666215340372875],\n",
       " ['TyG指数', 'proc_LVEF', 'pearsonr', -0.0718886700019655, 0.12364868029520167],\n",
       " ['TG/HDL',\n",
       "  'LM_LAD_LCX_RCA',\n",
       "  'spearmanr',\n",
       "  0.05323883283846149,\n",
       "  0.2544749444485749],\n",
       " ['TG/HDL',\n",
       "  'LM_LAD_LCX_RCA',\n",
       "  'pearsonr',\n",
       "  -0.0004598745185323931,\n",
       "  0.9921518353406531],\n",
       " ['TG/HDL', '分级处理', 'spearmanr', 0.0832345617825211, 0.07451778717706775],\n",
       " ['TG/HDL', '分级处理', 'pearsonr', 0.042779147031280565, 0.3599642286709478],\n",
       " ['TG/HDL', 'mace', 'spearmanr', 0.1604888020375983, 0.0005499704974847626],\n",
       " ['TG/HDL', 'mace', 'pearsonr', 0.10869620246968492, 0.019708917685024613],\n",
       " ['TG/HDL', 'proc_LVEF', 'spearmanr', 0.03593984173673497, 0.4419081927395223],\n",
       " ['TG/HDL',\n",
       "  'proc_LVEF',\n",
       "  'pearsonr',\n",
       "  -0.010420768695575029,\n",
       "  0.8236144710403556]]"
      ]
     },
     "execution_count": 38,
     "metadata": {},
     "output_type": "execute_result"
    }
   ],
   "source": [
    "res_list"
   ]
  },
  {
   "cell_type": "code",
   "execution_count": null,
   "id": "5d7e8016-8ef7-407a-a1fa-737344b1dc9e",
   "metadata": {},
   "outputs": [],
   "source": [
    "!pwd"
   ]
  },
  {
   "cell_type": "code",
   "execution_count": null,
   "id": "8732f04b-80cb-4328-9f59-9f56b2d76af7",
   "metadata": {},
   "outputs": [],
   "source": []
  }
 ],
 "metadata": {
  "kernelspec": {
   "display_name": "Python 3 (ipykernel)",
   "language": "python",
   "name": "python3"
  },
  "language_info": {
   "codemirror_mode": {
    "name": "ipython",
    "version": 3
   },
   "file_extension": ".py",
   "mimetype": "text/x-python",
   "name": "python",
   "nbconvert_exporter": "python",
   "pygments_lexer": "ipython3",
   "version": "3.9.13"
  }
 },
 "nbformat": 4,
 "nbformat_minor": 5
}
