{
 "cells": [
  {
   "cell_type": "code",
   "execution_count": 7,
   "id": "3045acc7-6d42-47bb-8b2a-889c4cf58f16",
   "metadata": {},
   "outputs": [],
   "source": [
    "import pandas as pd\n",
    "import numpy as np"
   ]
  },
  {
   "cell_type": "code",
   "execution_count": 12,
   "id": "013f5abb-c0d8-4b23-befa-a4a43809eb54",
   "metadata": {},
   "outputs": [],
   "source": [
    "data = pd.read_excel(\"./data/0827/data_gt_60.xlsx\")"
   ]
  },
  {
   "cell_type": "code",
   "execution_count": 13,
   "id": "349ddf29-c213-4e87-a8a8-c92ca6fa7746",
   "metadata": {},
   "outputs": [],
   "source": [
    "# 定量分析的清单:数值类型的数据\n",
    "quantive_analysis = [\"心率\",\"舒张压\",\"收缩压\",\"年龄\", \"LDL-C检测值\", \"HDL-C检测值\",\n",
    "                         \"TC检测值\", \"空腹血糖检测值\",\"最高值肌酐检测值\",\"首次血红蛋白检测值\",\n",
    "                        \"CK-MB最高值检测值\",\"TG检测值\", \"肌钙蛋白I最高值检测值\",\"肌钙蛋白T最高值检测值\",\n",
    "                        \"肌红蛋白最高值检测值\",\"糖化血红蛋白检测值\",\"BNP检测值\",\"NT-proBNP检测值\",\"LVEF\",\"乳酸脱氢酶最高值检测值.2\",\n",
    "                        \"TyG指数\", \"TG/HDL\"]\n",
    "\n",
    "\n",
    "\n",
    "# 定性分析的清单: 标签类型的数据 男女 是否\n",
    "qualitative_analysis = [\"性别\",\"戒烟：无\",\"吸烟史\",\"饮酒史\",\"既往心梗\",\"脑血管病史\",\n",
    "                        '合并高血压','合并糖尿病',\"既往心梗\",\"心衰史\",\"既往CABG\",\"既往PCI\",\n",
    "                        \"本次住院是否进行CABG治疗\",\"室壁瘤.1\",\"是否行PCI\",\n",
    "                        \"乳头肌功能不全或断裂\",\"室壁破裂\",\"室间隔穿孔\",\"附壁血栓\",\"室壁瘤\",\"并发症其他\",\n",
    "                        \"冠状动脉支架植入术后再狭窄\",\"冠状动脉支架内血栓形成\",\"急性亚急性支架血栓形成\",\"急性再发心肌梗死\",\"再梗死\",\"消化道出血.1\",\"心脏瓣膜病\",\n",
    "                        \"其他出血事件\",\n",
    "                        \"入院诊断\",\"首次心功能分级\",\"出院主要诊断\",\"LM_LAD_LCX_RCA\",\"mace\" # 不是二值变量\n",
    "                       ] "
   ]
  },
  {
   "cell_type": "code",
   "execution_count": 14,
   "id": "b271dfbc-39a6-4228-80e6-feb697f06d9c",
   "metadata": {},
   "outputs": [],
   "source": [
    "df_norm = data[quantive_analysis].apply(lambda x: (x - np.min(x)) / (np.max(x) - np.min(x)))\n",
    "df_sub = data[qualitative_analysis]"
   ]
  },
  {
   "cell_type": "code",
   "execution_count": 15,
   "id": "90549ee6-d7ba-452b-8500-c37e357a90d4",
   "metadata": {},
   "outputs": [],
   "source": [
    "# new_data = \n",
    "pd.concat([df_norm, df_sub],axis=1).to_excel('./data/0830/归一化数据.xlsx',index=None)"
   ]
  },
  {
   "cell_type": "code",
   "execution_count": null,
   "id": "be68c141-9e12-45b3-bb0f-13f3332c4fdd",
   "metadata": {},
   "outputs": [],
   "source": []
  }
 ],
 "metadata": {
  "kernelspec": {
   "display_name": "Python 3 (ipykernel)",
   "language": "python",
   "name": "python3"
  },
  "language_info": {
   "codemirror_mode": {
    "name": "ipython",
    "version": 3
   },
   "file_extension": ".py",
   "mimetype": "text/x-python",
   "name": "python",
   "nbconvert_exporter": "python",
   "pygments_lexer": "ipython3",
   "version": "3.9.13"
  }
 },
 "nbformat": 4,
 "nbformat_minor": 5
}
