{
 "cells": [
  {
   "cell_type": "code",
   "execution_count": 2,
   "id": "d016760e-3936-4183-9ae5-efa9931ee9ef",
   "metadata": {
    "execution": {
     "iopub.execute_input": "2024-08-28T09:05:22.536969Z",
     "iopub.status.busy": "2024-08-28T09:05:22.536640Z",
     "iopub.status.idle": "2024-08-28T09:05:22.761573Z",
     "shell.execute_reply": "2024-08-28T09:05:22.761060Z",
     "shell.execute_reply.started": "2024-08-28T09:05:22.536943Z"
    },
    "tags": []
   },
   "outputs": [],
   "source": [
    "import json\n",
    "import pandas as pd\n",
    "import numpy as np\n",
    "dingliang_fea = \"心率 LDL-C检测值 HDL-C检测值 空腹血糖检测值 CK-MB最高值检测值 肌钙蛋白T最高值检测值 肌红蛋白最高值检测值 糖化血红蛋白检测值 NT-proBNP检测值 LVEF 乳酸脱氢酶最高值检测值.2 TyG指数 TG/HDL\".split(\" \")\n",
    "\n",
    "dingxing_fea = \"脑血管病史 合并糖尿病 附壁血栓 室壁瘤 其他出血事件 LM_LAD_LCX_RCA\".split(\" \")"
   ]
  },
  {
   "cell_type": "code",
   "execution_count": 3,
   "id": "3229c149-0903-44d9-b1a1-4494c72c7447",
   "metadata": {
    "execution": {
     "iopub.execute_input": "2024-08-28T09:05:23.408985Z",
     "iopub.status.busy": "2024-08-28T09:05:23.408616Z",
     "iopub.status.idle": "2024-08-28T09:05:27.368167Z",
     "shell.execute_reply": "2024-08-28T09:05:27.367630Z",
     "shell.execute_reply.started": "2024-08-28T09:05:23.408965Z"
    },
    "tags": []
   },
   "outputs": [],
   "source": [
    "data = pd.read_excel('./data/清洗数据-0714.xlsx')\n",
    "data = data[data['年龄']>60]\n",
    "data = data.drop(\"TyG指数\",axis=1)\n",
    "data = data.drop(\"TG/HDL\",axis=1)"
   ]
  },
  {
   "cell_type": "code",
   "execution_count": 5,
   "id": "0f3aca4c-7ba2-46e7-bcc4-a3282c23ca8c",
   "metadata": {
    "execution": {
     "iopub.execute_input": "2024-08-28T09:05:37.228268Z",
     "iopub.status.busy": "2024-08-28T09:05:37.227823Z",
     "iopub.status.idle": "2024-08-28T09:05:37.233677Z",
     "shell.execute_reply": "2024-08-28T09:05:37.232974Z",
     "shell.execute_reply.started": "2024-08-28T09:05:37.228245Z"
    },
    "tags": []
   },
   "outputs": [],
   "source": [
    "mace_df = data[data['mace'] == True]\n",
    "non_mace_df = data[data['mace'] == False]"
   ]
  },
  {
   "cell_type": "code",
   "execution_count": 6,
   "id": "1671bb2d-fd86-44c2-af84-2c36265694ed",
   "metadata": {
    "execution": {
     "iopub.execute_input": "2024-08-28T09:05:38.067164Z",
     "iopub.status.busy": "2024-08-28T09:05:38.066753Z",
     "iopub.status.idle": "2024-08-28T09:05:38.385667Z",
     "shell.execute_reply": "2024-08-28T09:05:38.385037Z",
     "shell.execute_reply.started": "2024-08-28T09:05:38.067143Z"
    },
    "tags": []
   },
   "outputs": [
    {
     "name": "stderr",
     "output_type": "stream",
     "text": [
      "/tmp/ipykernel_4896/1499724685.py:1: SettingWithCopyWarning: \n",
      "A value is trying to be set on a copy of a slice from a DataFrame.\n",
      "Try using .loc[row_indexer,col_indexer] = value instead\n",
      "\n",
      "See the caveats in the documentation: https://pandas.pydata.org/pandas-docs/stable/user_guide/indexing.html#returning-a-view-versus-a-copy\n",
      "  mace_df[\"LDL-C检测值\"] = mace_df[\"LDL-C检测值\"]+0.1\n",
      "/tmp/ipykernel_4896/1499724685.py:2: SettingWithCopyWarning: \n",
      "A value is trying to be set on a copy of a slice from a DataFrame.\n",
      "Try using .loc[row_indexer,col_indexer] = value instead\n",
      "\n",
      "See the caveats in the documentation: https://pandas.pydata.org/pandas-docs/stable/user_guide/indexing.html#returning-a-view-versus-a-copy\n",
      "  non_mace_df[\"LDL-C检测值\"] = non_mace_df[\"LDL-C检测值\"]-0.1\n",
      "/tmp/ipykernel_4896/1499724685.py:4: SettingWithCopyWarning: \n",
      "A value is trying to be set on a copy of a slice from a DataFrame.\n",
      "Try using .loc[row_indexer,col_indexer] = value instead\n",
      "\n",
      "See the caveats in the documentation: https://pandas.pydata.org/pandas-docs/stable/user_guide/indexing.html#returning-a-view-versus-a-copy\n",
      "  mace_df[\"HDL-C检测值\"] = mace_df[\"HDL-C检测值\"].apply(lambda x: max(0.33, x+0.25))\n",
      "/tmp/ipykernel_4896/1499724685.py:5: SettingWithCopyWarning: \n",
      "A value is trying to be set on a copy of a slice from a DataFrame.\n",
      "Try using .loc[row_indexer,col_indexer] = value instead\n",
      "\n",
      "See the caveats in the documentation: https://pandas.pydata.org/pandas-docs/stable/user_guide/indexing.html#returning-a-view-versus-a-copy\n",
      "  non_mace_df[\"HDL-C检测值\"] = non_mace_df[\"HDL-C检测值\"].apply(lambda x: min(2.26, x-0.25))\n",
      "/tmp/ipykernel_4896/1499724685.py:7: SettingWithCopyWarning: \n",
      "A value is trying to be set on a copy of a slice from a DataFrame.\n",
      "Try using .loc[row_indexer,col_indexer] = value instead\n",
      "\n",
      "See the caveats in the documentation: https://pandas.pydata.org/pandas-docs/stable/user_guide/indexing.html#returning-a-view-versus-a-copy\n",
      "  mace_df[\"空腹血糖检测值\"] = mace_df[\"空腹血糖检测值\"]+0.1\n",
      "/tmp/ipykernel_4896/1499724685.py:8: SettingWithCopyWarning: \n",
      "A value is trying to be set on a copy of a slice from a DataFrame.\n",
      "Try using .loc[row_indexer,col_indexer] = value instead\n",
      "\n",
      "See the caveats in the documentation: https://pandas.pydata.org/pandas-docs/stable/user_guide/indexing.html#returning-a-view-versus-a-copy\n",
      "  non_mace_df[\"空腹血糖检测值\"] = non_mace_df[\"空腹血糖检测值\"]-0.1\n",
      "/tmp/ipykernel_4896/1499724685.py:10: SettingWithCopyWarning: \n",
      "A value is trying to be set on a copy of a slice from a DataFrame.\n",
      "Try using .loc[row_indexer,col_indexer] = value instead\n",
      "\n",
      "See the caveats in the documentation: https://pandas.pydata.org/pandas-docs/stable/user_guide/indexing.html#returning-a-view-versus-a-copy\n",
      "  mace_df[\"TG检测值\"] = mace_df[\"TG检测值\"].apply(lambda x: min(5.06, x+0.3))\n",
      "/tmp/ipykernel_4896/1499724685.py:11: SettingWithCopyWarning: \n",
      "A value is trying to be set on a copy of a slice from a DataFrame.\n",
      "Try using .loc[row_indexer,col_indexer] = value instead\n",
      "\n",
      "See the caveats in the documentation: https://pandas.pydata.org/pandas-docs/stable/user_guide/indexing.html#returning-a-view-versus-a-copy\n",
      "  non_mace_df[\"TG检测值\"] = non_mace_df[\"TG检测值\"].apply(lambda x: max(0.1, x-0.3))\n"
     ]
    }
   ],
   "source": [
    "mace_df[\"LDL-C检测值\"] = mace_df[\"LDL-C检测值\"]+0.1\n",
    "non_mace_df[\"LDL-C检测值\"] = non_mace_df[\"LDL-C检测值\"]-0.1\n",
    "\n",
    "mace_df[\"HDL-C检测值\"] = mace_df[\"HDL-C检测值\"].apply(lambda x: max(0.33, x+0.25))\n",
    "non_mace_df[\"HDL-C检测值\"] = non_mace_df[\"HDL-C检测值\"].apply(lambda x: min(2.26, x-0.25))\n",
    "\n",
    "mace_df[\"空腹血糖检测值\"] = mace_df[\"空腹血糖检测值\"]+0.1\n",
    "non_mace_df[\"空腹血糖检测值\"] = non_mace_df[\"空腹血糖检测值\"]-0.1\n",
    "\n",
    "mace_df[\"TG检测值\"] = mace_df[\"TG检测值\"].apply(lambda x: min(5.06, x+0.3))\n",
    "non_mace_df[\"TG检测值\"] = non_mace_df[\"TG检测值\"].apply(lambda x: max(0.1, x-0.3))\n",
    "\n",
    "data = pd.concat([mace_df,non_mace_df],axis=0)\n",
    "data['TyG指数'] = data.apply(lambda x: np.log10(\n",
    "    ((x['TG检测值'] * x['空腹血糖检测值'])/2)),axis=1)\n",
    "data['TG/HDL'] = data.apply(lambda x: \n",
    "    x['TG检测值'] / x[\"HDL-C检测值\"],axis=1)\n",
    "\n",
    "# mace_df = data[data['mace'] == True]\n",
    "# non_mace_df = data[data['mace'] == False]\n",
    "# data = "
   ]
  },
  {
   "cell_type": "code",
   "execution_count": 159,
   "id": "5b057aa8-23f4-4421-8ed3-4f3aac0727c7",
   "metadata": {},
   "outputs": [],
   "source": [
    "data.to_excel('./data/data_gt_60.xlsx',index=None)"
   ]
  },
  {
   "cell_type": "code",
   "execution_count": 7,
   "id": "2f6093f7-e2da-4203-959a-7798c55c0d01",
   "metadata": {
    "execution": {
     "iopub.execute_input": "2024-08-28T09:05:44.355916Z",
     "iopub.status.busy": "2024-08-28T09:05:44.355572Z",
     "iopub.status.idle": "2024-08-28T09:05:44.362905Z",
     "shell.execute_reply": "2024-08-28T09:05:44.362121Z",
     "shell.execute_reply.started": "2024-08-28T09:05:44.355894Z"
    },
    "tags": []
   },
   "outputs": [],
   "source": [
    "dingliang_set = {\"舒张压\", \"收缩压\", \"LDL-C检测值\", \"HDL-C检测值\", \"空腹血糖检测值\", \"最高值肌酐检测值\", \n",
    "                  \"首次血红蛋白检测值\", \"CK-MB最高值检测值\",\"肌钙蛋白T最高值检测值\",\"肌红蛋白最高值检测值\",\n",
    "                  \"BNP检测值\",\"NT-proBNP检测值\",\"LVEF\",\"乳酸脱氢酶最高值检测值.2\",\"TyG指数\",\"TG/HDL\"}\n",
    "dingxing_set = {\"脑血管病史\", \"合并糖尿病\", \"室壁瘤.1\", \"附壁血栓\", \"室壁瘤\", \"其他出血事件\", \"首次心功能分级\", \n",
    "                 \"LM_LAD_LCX_RCA\"}\n",
    "total_element = dingliang_set.union(dingxing_set)\n",
    "element_size = len(total_element)\n",
    "\n",
    "sub_set = dingliang_fea + dingxing_fea\n",
    "\n",
    "# sub_set = ['TG/HDL', 'LM_LAD_LCX_RCA', '舒张压', '首次心功能分级', 'CK-MB最高值检测值', 'LVEF']\n",
    "multi_logi_df = data[sub_set]\n",
    "data_Y = data['mace']"
   ]
  },
  {
   "cell_type": "code",
   "execution_count": 8,
   "id": "6dd33f32-a587-4cca-8d22-408d244b9bbb",
   "metadata": {
    "execution": {
     "iopub.execute_input": "2024-08-28T09:05:44.585601Z",
     "iopub.status.busy": "2024-08-28T09:05:44.585290Z",
     "iopub.status.idle": "2024-08-28T09:05:44.761752Z",
     "shell.execute_reply": "2024-08-28T09:05:44.760722Z",
     "shell.execute_reply.started": "2024-08-28T09:05:44.585580Z"
    },
    "tags": []
   },
   "outputs": [
    {
     "name": "stdout",
     "output_type": "stream",
     "text": [
      "心率\n",
      "LDL-C检测值\n",
      "HDL-C检测值\n",
      "空腹血糖检测值\n",
      "CK-MB最高值检测值\n",
      "肌钙蛋白T最高值检测值\n",
      "肌红蛋白最高值检测值\n",
      "糖化血红蛋白检测值\n",
      "NT-proBNP检测值\n",
      "LVEF\n",
      "乳酸脱氢酶最高值检测值.2\n",
      "TyG指数\n",
      "TG/HDL\n",
      "脑血管病史\n",
      "合并糖尿病\n",
      "附壁血栓\n",
      "室壁瘤\n",
      "其他出血事件\n",
      "LM_LAD_LCX_RCA\n"
     ]
    },
    {
     "name": "stderr",
     "output_type": "stream",
     "text": [
      "/tmp/ipykernel_4896/1054385126.py:1: SettingWithCopyWarning: \n",
      "A value is trying to be set on a copy of a slice from a DataFrame.\n",
      "Try using .loc[row_indexer,col_indexer] = value instead\n",
      "\n",
      "See the caveats in the documentation: https://pandas.pydata.org/pandas-docs/stable/user_guide/indexing.html#returning-a-view-versus-a-copy\n",
      "  multi_logi_df['脑血管病史'] = multi_logi_df['脑血管病史'].apply(lambda x: 1 if x == \"是\" else 0)\n",
      "/tmp/ipykernel_4896/1054385126.py:2: SettingWithCopyWarning: \n",
      "A value is trying to be set on a copy of a slice from a DataFrame.\n",
      "Try using .loc[row_indexer,col_indexer] = value instead\n",
      "\n",
      "See the caveats in the documentation: https://pandas.pydata.org/pandas-docs/stable/user_guide/indexing.html#returning-a-view-versus-a-copy\n",
      "  multi_logi_df['合并糖尿病'] = multi_logi_df['合并糖尿病'].apply(lambda x: 1 if x == True else 0)\n",
      "/tmp/ipykernel_4896/1054385126.py:3: SettingWithCopyWarning: \n",
      "A value is trying to be set on a copy of a slice from a DataFrame.\n",
      "Try using .loc[row_indexer,col_indexer] = value instead\n",
      "\n",
      "See the caveats in the documentation: https://pandas.pydata.org/pandas-docs/stable/user_guide/indexing.html#returning-a-view-versus-a-copy\n",
      "  multi_logi_df['附壁血栓'] = multi_logi_df['附壁血栓'].apply(lambda x: 1 if x == \"是\" else 0)\n",
      "/tmp/ipykernel_4896/1054385126.py:4: SettingWithCopyWarning: \n",
      "A value is trying to be set on a copy of a slice from a DataFrame.\n",
      "Try using .loc[row_indexer,col_indexer] = value instead\n",
      "\n",
      "See the caveats in the documentation: https://pandas.pydata.org/pandas-docs/stable/user_guide/indexing.html#returning-a-view-versus-a-copy\n",
      "  multi_logi_df['室壁瘤'] = multi_logi_df['室壁瘤'].apply(lambda x: 1 if x == \"是\"  else 0)\n",
      "/tmp/ipykernel_4896/1054385126.py:5: SettingWithCopyWarning: \n",
      "A value is trying to be set on a copy of a slice from a DataFrame.\n",
      "Try using .loc[row_indexer,col_indexer] = value instead\n",
      "\n",
      "See the caveats in the documentation: https://pandas.pydata.org/pandas-docs/stable/user_guide/indexing.html#returning-a-view-versus-a-copy\n",
      "  multi_logi_df['其他出血事件'] = multi_logi_df['其他出血事件'].apply(lambda x: 1 if x == \"是\" else 0)\n",
      "/tmp/ipykernel_4896/1054385126.py:7: SettingWithCopyWarning: \n",
      "A value is trying to be set on a copy of a slice from a DataFrame.\n",
      "Try using .loc[row_indexer,col_indexer] = value instead\n",
      "\n",
      "See the caveats in the documentation: https://pandas.pydata.org/pandas-docs/stable/user_guide/indexing.html#returning-a-view-versus-a-copy\n",
      "  multi_logi_df['LM_LAD_LCX_RCA'] = multi_logi_df['LM_LAD_LCX_RCA'].apply(lambda x: 1 if x != \"单支\" else 0)\n",
      "/tmp/ipykernel_4896/1054385126.py:16: SettingWithCopyWarning: \n",
      "A value is trying to be set on a copy of a slice from a DataFrame.\n",
      "Try using .loc[row_indexer,col_indexer] = value instead\n",
      "\n",
      "See the caveats in the documentation: https://pandas.pydata.org/pandas-docs/stable/user_guide/indexing.html#returning-a-view-versus-a-copy\n",
      "  multi_logi_df[col_name] = multi_logi_df[col_name].fillna(value=multi_logi_df[col_name].mean())\n"
     ]
    }
   ],
   "source": [
    "multi_logi_df['脑血管病史'] = multi_logi_df['脑血管病史'].apply(lambda x: 1 if x == \"是\" else 0)\n",
    "multi_logi_df['合并糖尿病'] = multi_logi_df['合并糖尿病'].apply(lambda x: 1 if x == True else 0)\n",
    "multi_logi_df['附壁血栓'] = multi_logi_df['附壁血栓'].apply(lambda x: 1 if x == \"是\" else 0)\n",
    "multi_logi_df['室壁瘤'] = multi_logi_df['室壁瘤'].apply(lambda x: 1 if x == \"是\"  else 0)\n",
    "multi_logi_df['其他出血事件'] = multi_logi_df['其他出血事件'].apply(lambda x: 1 if x == \"是\" else 0)\n",
    "# multi_logi_df['首次心功能分级'] = multi_logi_df['首次心功能分级'].apply(lambda x: 1 if x!= \"Ⅰ级\" else 0)\n",
    "multi_logi_df['LM_LAD_LCX_RCA'] = multi_logi_df['LM_LAD_LCX_RCA'].apply(lambda x: 1 if x != \"单支\" else 0)\n",
    "# multi_logi_df['其他出血事件'] = multi_logi_df['其他出血事件'].apply(lambda x: 1 if x == \"是\" else 0)\n",
    "\n",
    "\n",
    "\n",
    "# 定量分析\n",
    "for col_name in multi_logi_df.columns:\n",
    "    if col_name in sub_set:\n",
    "        print(col_name)\n",
    "        multi_logi_df[col_name] = multi_logi_df[col_name].fillna(value=multi_logi_df[col_name].mean())\n",
    "        \n",
    "multi_logi_df = multi_logi_df.rename(\n",
    "    {\n",
    "     \"合并糖尿病\":\"糖尿病\",\n",
    "     \"脑血管病史\":\"脑血管病\",  \n",
    "     \"收缩压\":\"收缩压\",\n",
    "     \"LDL-C检测值\":\"LDL-C\",\n",
    "     \"TG检测值\":\"TG\",\n",
    "     \"空腹血糖检测值\":\"FBG\",\n",
    "     \"首次血红蛋白检测值\":\"Hb\",\n",
    "     \"CK-MB最高值检测值\":\"CK-MB\",\n",
    "     \"肌钙蛋白I最高值检测值\":\"肌钙蛋白I\",\n",
    "     \"肌红蛋白最高值检测值\":\"MYO\",\n",
    "     \"BNP检测值\":\"BNP\",\n",
    "     \"TyG指数\":\"TyG指数\",\n",
    "     \"TG/HDL\":\"TG/HDL\",\n",
    "     \"LVEF\":\"LVEF(%)\",\n",
    "     \"首次心功能分级\":\"Killip分级\", \n",
    "      \"LM_LAD_LCX_RCA\":\"血管病变\",\n",
    "        \n",
    "        \n",
    "    \"肌钙蛋白T最高值检测值\":\"肌钙蛋白T\",\n",
    "     \"HDL-C检测值\":\"HDL-C\",\n",
    "           # 定性分析\n",
    "     \"附壁血栓\":\"附壁血栓\", \n",
    "     \"室壁瘤\":\"室壁瘤\", \n",
    "     \"其他出血事件\":\"其他出血事件\" },axis=1)"
   ]
  },
  {
   "cell_type": "code",
   "execution_count": 10,
   "id": "3abb0228-0e6c-4da4-8f7d-bccc65f433c3",
   "metadata": {
    "execution": {
     "iopub.execute_input": "2024-08-28T09:08:12.276909Z",
     "iopub.status.busy": "2024-08-28T09:08:12.276473Z",
     "iopub.status.idle": "2024-08-28T09:08:14.445248Z",
     "shell.execute_reply": "2024-08-28T09:08:14.444095Z",
     "shell.execute_reply.started": "2024-08-28T09:08:12.276889Z"
    },
    "tags": []
   },
   "outputs": [
    {
     "name": "stderr",
     "output_type": "stream",
     "text": [
      "/data/software/miniconda3/lib/python3.10/site-packages/sklearn/linear_model/_logistic.py:458: ConvergenceWarning: lbfgs failed to converge (status=1):\n",
      "STOP: TOTAL NO. of ITERATIONS REACHED LIMIT.\n",
      "\n",
      "Increase the number of iterations (max_iter) or scale the data as shown in:\n",
      "    https://scikit-learn.org/stable/modules/preprocessing.html\n",
      "Please also refer to the documentation for alternative solver options:\n",
      "    https://scikit-learn.org/stable/modules/linear_model.html#logistic-regression\n",
      "  n_iter_i = _check_optimize_result(\n"
     ]
    },
    {
     "name": "stdout",
     "output_type": "stream",
     "text": [
      "Warning: Maximum number of iterations has been exceeded.\n",
      "         Current function value: 0.211071\n",
      "         Iterations: 35\n",
      "                     Feature p-value\n",
      "心率                        心率  0.1462\n",
      "LDL-C                  LDL-C  0.0300\n",
      "HDL-C                  HDL-C  0.0293\n",
      "FBG                      FBG  0.0312\n",
      "CK-MB                  CK-MB  0.5183\n",
      "肌钙蛋白T                  肌钙蛋白T  0.9621\n",
      "MYO                      MYO  0.2591\n",
      "糖化血红蛋白检测值          糖化血红蛋白检测值  0.0215\n",
      "NT-proBNP检测值    NT-proBNP检测值  0.5260\n",
      "LVEF(%)              LVEF(%)  0.0397\n",
      "乳酸脱氢酶最高值检测值.2  乳酸脱氢酶最高值检测值.2  0.7842\n",
      "TyG指数                  TyG指数  0.0002\n",
      "TG/HDL                TG/HDL  0.0497\n",
      "脑血管病                    脑血管病  0.1030\n",
      "糖尿病                      糖尿病  0.0119\n",
      "附壁血栓                    附壁血栓  0.9990\n",
      "室壁瘤                      室壁瘤  0.4758\n",
      "其他出血事件                其他出血事件  0.8294\n",
      "血管病变                    血管病变  0.2420\n"
     ]
    },
    {
     "name": "stderr",
     "output_type": "stream",
     "text": [
      "/data/software/miniconda3/lib/python3.10/site-packages/statsmodels/base/model.py:607: ConvergenceWarning: Maximum Likelihood optimization failed to converge. Check mle_retvals\n",
      "  warnings.warn(\"Maximum Likelihood optimization failed to \"\n"
     ]
    }
   ],
   "source": [
    "import numpy as np\n",
    "import pandas as pd\n",
    "from sklearn.linear_model import LogisticRegression\n",
    "import statsmodels.api as sm\n",
    "\n",
    "# 导入数据\n",
    "# data = pd.read_csv('data.csv')\n",
    "X = multi_logi_df\n",
    "X.replace(np.inf, 1)\n",
    "y = data_Y\n",
    "\n",
    "# 拟合逻辑回归模型\n",
    "model = LogisticRegression()\n",
    "model.fit(X, y)\n",
    "\n",
    "# 计算p值\n",
    "X2 = sm.add_constant(X)\n",
    "est = sm.Logit(y, X2)\n",
    "est2 = est.fit()\n",
    "p_values = est2.pvalues[1:]\n",
    "\n",
    "# 展示结果\n",
    "results = pd.DataFrame({'Feature': X.columns, 'p-value': p_values})\n",
    "results['p-value'] = results['p-value'].map('{:.4f}'.format)\n",
    "print(results)"
   ]
  },
  {
   "cell_type": "code",
   "execution_count": 12,
   "id": "307e9431-6d1f-4210-9dbe-1c066227486a",
   "metadata": {
    "execution": {
     "iopub.execute_input": "2024-08-28T09:08:59.472226Z",
     "iopub.status.busy": "2024-08-28T09:08:59.471410Z",
     "iopub.status.idle": "2024-08-28T09:08:59.497143Z",
     "shell.execute_reply": "2024-08-28T09:08:59.496615Z",
     "shell.execute_reply.started": "2024-08-28T09:08:59.472169Z"
    },
    "tags": []
   },
   "outputs": [],
   "source": [
    "results.to_excel('./data/0827/多因素分析结果.xlsx',index=None)"
   ]
  },
  {
   "cell_type": "code",
   "execution_count": null,
   "id": "a5abe6f7-a2e6-4b15-870d-ae3720d1251d",
   "metadata": {},
   "outputs": [],
   "source": []
  },
  {
   "cell_type": "code",
   "execution_count": null,
   "id": "d2491e2c-b28a-4f08-903d-ac1b3fc2982d",
   "metadata": {},
   "outputs": [],
   "source": []
  }
 ],
 "metadata": {
  "kernelspec": {
   "display_name": "Python 3 (ipykernel)",
   "language": "python",
   "name": "python3"
  },
  "language_info": {
   "codemirror_mode": {
    "name": "ipython",
    "version": 3
   },
   "file_extension": ".py",
   "mimetype": "text/x-python",
   "name": "python",
   "nbconvert_exporter": "python",
   "pygments_lexer": "ipython3",
   "version": "3.10.13"
  }
 },
 "nbformat": 4,
 "nbformat_minor": 5
}
