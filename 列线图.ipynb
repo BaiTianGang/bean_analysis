{
 "cells": [
  {
   "cell_type": "code",
   "execution_count": 1,
   "id": "e1c7aae9-10bb-4893-bfa6-0d7a1e577caf",
   "metadata": {
    "execution": {
     "iopub.execute_input": "2024-08-28T08:45:17.193609Z",
     "iopub.status.busy": "2024-08-28T08:45:17.192782Z",
     "iopub.status.idle": "2024-08-28T08:45:18.181805Z",
     "shell.execute_reply": "2024-08-28T08:45:18.180734Z",
     "shell.execute_reply.started": "2024-08-28T08:45:17.193551Z"
    },
    "tags": []
   },
   "outputs": [],
   "source": [
    "import matplotlib.pyplot as plt\n",
    "import pandas as pd"
   ]
  },
  {
   "cell_type": "code",
   "execution_count": 2,
   "id": "2bf53746-9e95-4bb3-bbef-16f8c877c028",
   "metadata": {
    "execution": {
     "iopub.execute_input": "2024-08-28T08:45:18.183302Z",
     "iopub.status.busy": "2024-08-28T08:45:18.183042Z",
     "iopub.status.idle": "2024-08-28T08:45:18.652536Z",
     "shell.execute_reply": "2024-08-28T08:45:18.651521Z",
     "shell.execute_reply.started": "2024-08-28T08:45:18.183285Z"
    },
    "tags": []
   },
   "outputs": [
    {
     "ename": "ModuleNotFoundError",
     "evalue": "No module named 'nomogram'",
     "output_type": "error",
     "traceback": [
      "\u001b[0;31m---------------------------------------------------------------------------\u001b[0m",
      "\u001b[0;31mModuleNotFoundError\u001b[0m                       Traceback (most recent call last)",
      "Cell \u001b[0;32mIn[2], line 1\u001b[0m\n\u001b[0;32m----> 1\u001b[0m \u001b[38;5;28;01mfrom\u001b[39;00m \u001b[38;5;21;01mnomogram\u001b[39;00m \u001b[38;5;28;01mimport\u001b[39;00m drawing\n\u001b[1;32m      2\u001b[0m \u001b[38;5;28;01mfrom\u001b[39;00m \u001b[38;5;21;01mnomogram\u001b[39;00m \u001b[38;5;28;01mimport\u001b[39;00m Nomogram\n\u001b[1;32m      4\u001b[0m \u001b[38;5;66;03m# 创建一个Nomogram对象\u001b[39;00m\n",
      "\u001b[0;31mModuleNotFoundError\u001b[0m: No module named 'nomogram'"
     ]
    }
   ],
   "source": [
    "from nomogram import drawing\n",
    "from nomogram import Nomogram\n",
    "\n",
    "# 创建一个Nomogram对象\n",
    "nom = Nomogram()\n",
    "\n",
    "# 添加数据\n",
    "data = {\n",
    "    'A': [1, 2, 3, 4, 5],\n",
    "    'B': [2, 4, 6, 8, 10],\n",
    "    'C': [3, 6, 9, 12, 15]\n",
    "}\n",
    "nom.add(data)\n",
    "\n",
    "# 绘制Nomogram列线图\n",
    "drawing.plot(nom)\n",
    "# 展示Nomogram图\n",
    "plt.show()"
   ]
  },
  {
   "cell_type": "code",
   "execution_count": null,
   "id": "72f4da15-b9ff-4449-a23e-4b84a7ab0015",
   "metadata": {},
   "outputs": [],
   "source": []
  }
 ],
 "metadata": {
  "kernelspec": {
   "display_name": "Python 3 (ipykernel)",
   "language": "python",
   "name": "python3"
  },
  "language_info": {
   "codemirror_mode": {
    "name": "ipython",
    "version": 3
   },
   "file_extension": ".py",
   "mimetype": "text/x-python",
   "name": "python",
   "nbconvert_exporter": "python",
   "pygments_lexer": "ipython3",
   "version": "3.10.13"
  }
 },
 "nbformat": 4,
 "nbformat_minor": 5
}
